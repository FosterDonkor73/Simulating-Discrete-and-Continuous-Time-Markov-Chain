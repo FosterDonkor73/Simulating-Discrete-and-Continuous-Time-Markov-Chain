{
 "cells": [
  {
   "cell_type": "markdown",
   "id": "3a9f44b6",
   "metadata": {},
   "source": [
    "## Simulating Discrete and Continuous Time Markov Chain"
   ]
  },
  {
   "cell_type": "code",
   "execution_count": 1,
   "id": "970cdfd9",
   "metadata": {},
   "outputs": [],
   "source": [
    "### Importing packages\n",
    "\n",
    "import numpy"
   ]
  },
  {
   "cell_type": "code",
   "execution_count": 2,
   "id": "58a86f98",
   "metadata": {},
   "outputs": [],
   "source": [
    "## A Discrete Time Markov Chain (DTMC) simulation\n",
    "\n",
    "#N is the number of iterations (or steps) for the simulation.\n",
    "#initial: The initial state of the system\n",
    "#P is the transition matrix that defines the probabilities of moving from one state to another.\n",
    "\n",
    "P = numpy.array([[0.3, 0.7, 0],\n",
    "              [0.3, 0.4, 0.3],\n",
    "              [0, 0.7, 0.3]])\n",
    "\n",
    "def markov_chain(N, initial):\n",
    "    current_state = initial\n",
    "    state_counts = [0, 0, 0]\n",
    "\n",
    "    for _ in range(N):\n",
    "        state_counts[current_state] += 1\n",
    "        current_state = numpy.random.choice([0, 1, 2], p=P[current_state])\n",
    "\n",
    "    return state_counts"
   ]
  },
  {
   "cell_type": "markdown",
   "id": "0158b224",
   "metadata": {},
   "source": [
    "The function markov_chain simulates the evolution of a Markov chain over N time steps starting from initial_state.\n",
    "Each iteration updates the current_state based on the transition probabilities defined in matrix 𝑃. After N iterations, state_counts will contain the number of times each state (0, 1, 2) was visited during the simulation."
   ]
  },
  {
   "cell_type": "code",
   "execution_count": null,
   "id": "ab911858",
   "metadata": {},
   "outputs": [],
   "source": []
  },
  {
   "cell_type": "code",
   "execution_count": 3,
   "id": "d3d4a6e7",
   "metadata": {},
   "outputs": [],
   "source": [
    "## A Continuous Time Markov Chain (CTMC) simulation\n",
    "\n",
    "\n",
    "#state is the initial state (0).\n",
    "#sim keeps track of the sequence of states visited.\n",
    "#jumptimes records the times at which transitions occur.\n",
    "#time_at_state_1 and time_at_state_2 record the time spent in states 1 and 2 respectively\n",
    "# A is a proposed matrix\n",
    "\n",
    "A = numpy.array([[-2, 1, 1],\n",
    "              [3, -4, 1],\n",
    "              [1, 0, -1]])\n",
    "\n",
    "state = 0\n",
    "sim = [state]\n",
    "jumptimes = [0]\n",
    "time_at_state_1 = []\n",
    "time_at_state_2 = []\n",
    "\n",
    "for _ in range(5000):\n",
    "    if sim[-1] == 0:\n",
    "        clock01 = numpy.random.exponential(1)\n",
    "        clock02 = numpy.random.exponential(1)\n",
    "        if clock01 < clock02:\n",
    "            jumptimes.append(jumptimes[-1] + clock01)\n",
    "            sim.append(1)\n",
    "            time_at_state_1.append(clock01)  #Record time spent at state 1\n",
    "        else:\n",
    "            jumptimes.append(jumptimes[-1] + clock02)\n",
    "            sim.append(2)\n",
    "            time_at_state_1.append(clock02)  #Record time spent at state 1\n",
    "    elif sim[-1] == 1:\n",
    "        clock10 = numpy.random.exponential(scale = 3)\n",
    "        clock12 = numpy.random.exponential(1)\n",
    "        if clock10 < clock12:\n",
    "            jumptimes.append(jumptimes[-1] + clock10)\n",
    "            sim.append(0)\n",
    "            time_at_state_2.append(clock10)  # Record time spent at state 2\n",
    "        else:\n",
    "            jumptimes.append(jumptimes[-1] + clock12)\n",
    "            sim.append(2)\n",
    "            time_at_state_2.append(clock12)  # Record time spent at state 2\n",
    "\n",
    "    else:\n",
    "        clock20 = numpy.random.exponential(1)\n",
    "        sim.append(0)\n",
    "        jumptimes.append(jumptimes[-1] + clock20)"
   ]
  },
  {
   "cell_type": "markdown",
   "id": "f48cb505",
   "metadata": {},
   "source": [
    "The loop runs for 5000 iterations, simulating transitions between states based on exponential waiting times.\n",
    "Depending on the current state (sim[-1]):\n",
    "If in state 0, choose between transitioning to state 1 or state 2 based on exponential clocks (clock01 and clock02).\n",
    "If in state 1, choose between transitioning back to state 0 or to state 2 based on exponential clocks (clock10 and clock12).\n",
    "If in state 2, always transition back to state 0 based on an exponential clock (clock20)."
   ]
  },
  {
   "cell_type": "code",
   "execution_count": null,
   "id": "9d3fa287",
   "metadata": {},
   "outputs": [],
   "source": []
  }
 ],
 "metadata": {
  "kernelspec": {
   "display_name": "Python 3 (ipykernel)",
   "language": "python",
   "name": "python3"
  },
  "language_info": {
   "codemirror_mode": {
    "name": "ipython",
    "version": 3
   },
   "file_extension": ".py",
   "mimetype": "text/x-python",
   "name": "python",
   "nbconvert_exporter": "python",
   "pygments_lexer": "ipython3",
   "version": "3.11.5"
  }
 },
 "nbformat": 4,
 "nbformat_minor": 5
}
